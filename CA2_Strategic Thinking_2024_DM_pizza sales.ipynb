{
 "cells": [
  {
   "cell_type": "code",
   "execution_count": 1,
   "id": "09a973d3-b864-4722-9d80-e47ef61df6c8",
   "metadata": {},
   "outputs": [],
   "source": [
    "import pandas as pd\n",
    "import numpy as np\n",
    "import matplotlib.pyplot as plt\n",
    "import seaborn as sns"
   ]
  },
  {
   "cell_type": "code",
   "execution_count": 2,
   "id": "3367f31f-a380-4a08-b479-0252e2893373",
   "metadata": {},
   "outputs": [],
   "source": [
    "df = pd.read_csv(\"pizza sales.csv\")"
   ]
  },
  {
   "cell_type": "code",
   "execution_count": 3,
   "id": "ac11fbe9-44c8-4e7a-8f22-f530ec180963",
   "metadata": {},
   "outputs": [
    {
     "data": {
      "text/html": [
       "<div>\n",
       "<style scoped>\n",
       "    .dataframe tbody tr th:only-of-type {\n",
       "        vertical-align: middle;\n",
       "    }\n",
       "\n",
       "    .dataframe tbody tr th {\n",
       "        vertical-align: top;\n",
       "    }\n",
       "\n",
       "    .dataframe thead th {\n",
       "        text-align: right;\n",
       "    }\n",
       "</style>\n",
       "<table border=\"1\" class=\"dataframe\">\n",
       "  <thead>\n",
       "    <tr style=\"text-align: right;\">\n",
       "      <th></th>\n",
       "      <th>order_details_id</th>\n",
       "      <th>order_id</th>\n",
       "      <th>pizza_id</th>\n",
       "      <th>quantity</th>\n",
       "      <th>order_date</th>\n",
       "      <th>order_time</th>\n",
       "      <th>unit_price</th>\n",
       "      <th>total_price</th>\n",
       "      <th>pizza_size</th>\n",
       "      <th>pizza_category</th>\n",
       "      <th>pizza_ingredients</th>\n",
       "      <th>pizza_name</th>\n",
       "    </tr>\n",
       "  </thead>\n",
       "  <tbody>\n",
       "    <tr>\n",
       "      <th>0</th>\n",
       "      <td>1</td>\n",
       "      <td>1</td>\n",
       "      <td>hawaiian_m</td>\n",
       "      <td>1</td>\n",
       "      <td>1/1/2015</td>\n",
       "      <td>11:38:36</td>\n",
       "      <td>13.25</td>\n",
       "      <td>13.25</td>\n",
       "      <td>M</td>\n",
       "      <td>Classic</td>\n",
       "      <td>Sliced Ham, Pineapple, Mozzarella Cheese</td>\n",
       "      <td>The Hawaiian Pizza</td>\n",
       "    </tr>\n",
       "    <tr>\n",
       "      <th>1</th>\n",
       "      <td>2</td>\n",
       "      <td>2</td>\n",
       "      <td>classic_dlx_m</td>\n",
       "      <td>1</td>\n",
       "      <td>1/1/2015</td>\n",
       "      <td>11:57:40</td>\n",
       "      <td>16.00</td>\n",
       "      <td>16.00</td>\n",
       "      <td>M</td>\n",
       "      <td>Classic</td>\n",
       "      <td>Pepperoni, Mushrooms, Red Onions, Red Peppers,...</td>\n",
       "      <td>The Classic Deluxe Pizza</td>\n",
       "    </tr>\n",
       "    <tr>\n",
       "      <th>2</th>\n",
       "      <td>3</td>\n",
       "      <td>2</td>\n",
       "      <td>five_cheese_l</td>\n",
       "      <td>1</td>\n",
       "      <td>1/1/2015</td>\n",
       "      <td>11:57:40</td>\n",
       "      <td>18.50</td>\n",
       "      <td>18.50</td>\n",
       "      <td>L</td>\n",
       "      <td>Veggie</td>\n",
       "      <td>Mozzarella Cheese, Provolone Cheese, Smoked Go...</td>\n",
       "      <td>The Five Cheese Pizza</td>\n",
       "    </tr>\n",
       "    <tr>\n",
       "      <th>3</th>\n",
       "      <td>4</td>\n",
       "      <td>2</td>\n",
       "      <td>ital_supr_l</td>\n",
       "      <td>1</td>\n",
       "      <td>1/1/2015</td>\n",
       "      <td>11:57:40</td>\n",
       "      <td>20.75</td>\n",
       "      <td>20.75</td>\n",
       "      <td>L</td>\n",
       "      <td>Supreme</td>\n",
       "      <td>Calabrese Salami, Capocollo, Tomatoes, Red Oni...</td>\n",
       "      <td>The Italian Supreme Pizza</td>\n",
       "    </tr>\n",
       "    <tr>\n",
       "      <th>4</th>\n",
       "      <td>5</td>\n",
       "      <td>2</td>\n",
       "      <td>mexicana_m</td>\n",
       "      <td>1</td>\n",
       "      <td>1/1/2015</td>\n",
       "      <td>11:57:40</td>\n",
       "      <td>16.00</td>\n",
       "      <td>16.00</td>\n",
       "      <td>M</td>\n",
       "      <td>Veggie</td>\n",
       "      <td>Tomatoes, Red Peppers, Jalapeno Peppers, Red O...</td>\n",
       "      <td>The Mexicana Pizza</td>\n",
       "    </tr>\n",
       "  </tbody>\n",
       "</table>\n",
       "</div>"
      ],
      "text/plain": [
       "   order_details_id  order_id       pizza_id  quantity order_date order_time  \\\n",
       "0                 1         1     hawaiian_m         1   1/1/2015   11:38:36   \n",
       "1                 2         2  classic_dlx_m         1   1/1/2015   11:57:40   \n",
       "2                 3         2  five_cheese_l         1   1/1/2015   11:57:40   \n",
       "3                 4         2    ital_supr_l         1   1/1/2015   11:57:40   \n",
       "4                 5         2     mexicana_m         1   1/1/2015   11:57:40   \n",
       "\n",
       "   unit_price  total_price pizza_size pizza_category  \\\n",
       "0       13.25        13.25          M        Classic   \n",
       "1       16.00        16.00          M        Classic   \n",
       "2       18.50        18.50          L         Veggie   \n",
       "3       20.75        20.75          L        Supreme   \n",
       "4       16.00        16.00          M         Veggie   \n",
       "\n",
       "                                   pizza_ingredients  \\\n",
       "0           Sliced Ham, Pineapple, Mozzarella Cheese   \n",
       "1  Pepperoni, Mushrooms, Red Onions, Red Peppers,...   \n",
       "2  Mozzarella Cheese, Provolone Cheese, Smoked Go...   \n",
       "3  Calabrese Salami, Capocollo, Tomatoes, Red Oni...   \n",
       "4  Tomatoes, Red Peppers, Jalapeno Peppers, Red O...   \n",
       "\n",
       "                  pizza_name  \n",
       "0         The Hawaiian Pizza  \n",
       "1   The Classic Deluxe Pizza  \n",
       "2      The Five Cheese Pizza  \n",
       "3  The Italian Supreme Pizza  \n",
       "4         The Mexicana Pizza  "
      ]
     },
     "execution_count": 3,
     "metadata": {},
     "output_type": "execute_result"
    }
   ],
   "source": [
    "df.head()"
   ]
  },
  {
   "cell_type": "code",
   "execution_count": 4,
   "id": "e4309baf-2c6a-403e-93b0-d175e64b94e1",
   "metadata": {},
   "outputs": [
    {
     "name": "stdout",
     "output_type": "stream",
     "text": [
      "<class 'pandas.core.frame.DataFrame'>\n",
      "RangeIndex: 48620 entries, 0 to 48619\n",
      "Data columns (total 12 columns):\n",
      " #   Column             Non-Null Count  Dtype  \n",
      "---  ------             --------------  -----  \n",
      " 0   order_details_id   48620 non-null  int64  \n",
      " 1   order_id           48620 non-null  int64  \n",
      " 2   pizza_id           48620 non-null  object \n",
      " 3   quantity           48620 non-null  int64  \n",
      " 4   order_date         48620 non-null  object \n",
      " 5   order_time         48620 non-null  object \n",
      " 6   unit_price         48620 non-null  float64\n",
      " 7   total_price        48620 non-null  float64\n",
      " 8   pizza_size         48620 non-null  object \n",
      " 9   pizza_category     48620 non-null  object \n",
      " 10  pizza_ingredients  48620 non-null  object \n",
      " 11  pizza_name         48620 non-null  object \n",
      "dtypes: float64(2), int64(3), object(7)\n",
      "memory usage: 4.5+ MB\n"
     ]
    }
   ],
   "source": [
    "df.info()"
   ]
  },
  {
   "cell_type": "code",
   "execution_count": 5,
   "id": "bd3c5f65-9490-43ec-8012-e13d3c75a2d8",
   "metadata": {},
   "outputs": [
    {
     "data": {
      "text/html": [
       "<div>\n",
       "<style scoped>\n",
       "    .dataframe tbody tr th:only-of-type {\n",
       "        vertical-align: middle;\n",
       "    }\n",
       "\n",
       "    .dataframe tbody tr th {\n",
       "        vertical-align: top;\n",
       "    }\n",
       "\n",
       "    .dataframe thead th {\n",
       "        text-align: right;\n",
       "    }\n",
       "</style>\n",
       "<table border=\"1\" class=\"dataframe\">\n",
       "  <thead>\n",
       "    <tr style=\"text-align: right;\">\n",
       "      <th></th>\n",
       "      <th>order_details_id</th>\n",
       "      <th>order_id</th>\n",
       "      <th>pizza_id</th>\n",
       "      <th>quantity</th>\n",
       "      <th>order_date</th>\n",
       "      <th>order_time</th>\n",
       "      <th>unit_price</th>\n",
       "      <th>total_price</th>\n",
       "      <th>pizza_size</th>\n",
       "      <th>pizza_category</th>\n",
       "      <th>pizza_ingredients</th>\n",
       "      <th>pizza_name</th>\n",
       "    </tr>\n",
       "  </thead>\n",
       "  <tbody>\n",
       "    <tr>\n",
       "      <th>35497</th>\n",
       "      <td>35498</td>\n",
       "      <td>15674</td>\n",
       "      <td>hawaiian_l</td>\n",
       "      <td>1</td>\n",
       "      <td>9/19/2015</td>\n",
       "      <td>14:16:35</td>\n",
       "      <td>16.50</td>\n",
       "      <td>16.50</td>\n",
       "      <td>L</td>\n",
       "      <td>Classic</td>\n",
       "      <td>Sliced Ham, Pineapple, Mozzarella Cheese</td>\n",
       "      <td>The Hawaiian Pizza</td>\n",
       "    </tr>\n",
       "    <tr>\n",
       "      <th>41497</th>\n",
       "      <td>41498</td>\n",
       "      <td>18266</td>\n",
       "      <td>classic_dlx_m</td>\n",
       "      <td>1</td>\n",
       "      <td>11/7/2015</td>\n",
       "      <td>19:30:04</td>\n",
       "      <td>16.00</td>\n",
       "      <td>16.00</td>\n",
       "      <td>M</td>\n",
       "      <td>Classic</td>\n",
       "      <td>Pepperoni, Mushrooms, Red Onions, Red Peppers,...</td>\n",
       "      <td>The Classic Deluxe Pizza</td>\n",
       "    </tr>\n",
       "    <tr>\n",
       "      <th>14295</th>\n",
       "      <td>14296</td>\n",
       "      <td>6252</td>\n",
       "      <td>southw_ckn_s</td>\n",
       "      <td>1</td>\n",
       "      <td>4/15/2015</td>\n",
       "      <td>18:15:48</td>\n",
       "      <td>12.75</td>\n",
       "      <td>12.75</td>\n",
       "      <td>S</td>\n",
       "      <td>Chicken</td>\n",
       "      <td>Chicken, Tomatoes, Red Peppers, Red Onions, Ja...</td>\n",
       "      <td>The Southwest Chicken Pizza</td>\n",
       "    </tr>\n",
       "    <tr>\n",
       "      <th>38180</th>\n",
       "      <td>38181</td>\n",
       "      <td>16841</td>\n",
       "      <td>the_greek_m</td>\n",
       "      <td>1</td>\n",
       "      <td>10/13/2015</td>\n",
       "      <td>14:08:41</td>\n",
       "      <td>16.00</td>\n",
       "      <td>16.00</td>\n",
       "      <td>M</td>\n",
       "      <td>Classic</td>\n",
       "      <td>Kalamata Olives, Feta Cheese, Tomatoes, Garlic...</td>\n",
       "      <td>The Greek Pizza</td>\n",
       "    </tr>\n",
       "    <tr>\n",
       "      <th>22579</th>\n",
       "      <td>22580</td>\n",
       "      <td>9924</td>\n",
       "      <td>cali_ckn_l</td>\n",
       "      <td>1</td>\n",
       "      <td>6/15/2015</td>\n",
       "      <td>19:52:12</td>\n",
       "      <td>20.75</td>\n",
       "      <td>20.75</td>\n",
       "      <td>L</td>\n",
       "      <td>Chicken</td>\n",
       "      <td>Chicken, Artichoke, Spinach, Garlic, Jalapeno ...</td>\n",
       "      <td>The California Chicken Pizza</td>\n",
       "    </tr>\n",
       "  </tbody>\n",
       "</table>\n",
       "</div>"
      ],
      "text/plain": [
       "       order_details_id  order_id       pizza_id  quantity  order_date  \\\n",
       "35497             35498     15674     hawaiian_l         1   9/19/2015   \n",
       "41497             41498     18266  classic_dlx_m         1   11/7/2015   \n",
       "14295             14296      6252   southw_ckn_s         1   4/15/2015   \n",
       "38180             38181     16841    the_greek_m         1  10/13/2015   \n",
       "22579             22580      9924     cali_ckn_l         1   6/15/2015   \n",
       "\n",
       "      order_time  unit_price  total_price pizza_size pizza_category  \\\n",
       "35497   14:16:35       16.50        16.50          L        Classic   \n",
       "41497   19:30:04       16.00        16.00          M        Classic   \n",
       "14295   18:15:48       12.75        12.75          S        Chicken   \n",
       "38180   14:08:41       16.00        16.00          M        Classic   \n",
       "22579   19:52:12       20.75        20.75          L        Chicken   \n",
       "\n",
       "                                       pizza_ingredients  \\\n",
       "35497           Sliced Ham, Pineapple, Mozzarella Cheese   \n",
       "41497  Pepperoni, Mushrooms, Red Onions, Red Peppers,...   \n",
       "14295  Chicken, Tomatoes, Red Peppers, Red Onions, Ja...   \n",
       "38180  Kalamata Olives, Feta Cheese, Tomatoes, Garlic...   \n",
       "22579  Chicken, Artichoke, Spinach, Garlic, Jalapeno ...   \n",
       "\n",
       "                         pizza_name  \n",
       "35497            The Hawaiian Pizza  \n",
       "41497      The Classic Deluxe Pizza  \n",
       "14295   The Southwest Chicken Pizza  \n",
       "38180               The Greek Pizza  \n",
       "22579  The California Chicken Pizza  "
      ]
     },
     "execution_count": 5,
     "metadata": {},
     "output_type": "execute_result"
    }
   ],
   "source": [
    "df.sample(5)"
   ]
  },
  {
   "cell_type": "code",
   "execution_count": 6,
   "id": "4ba5399c-6920-4ee4-a346-4ffb3cd5c097",
   "metadata": {},
   "outputs": [
    {
     "data": {
      "text/plain": [
       "0"
      ]
     },
     "execution_count": 6,
     "metadata": {},
     "output_type": "execute_result"
    }
   ],
   "source": [
    "df.duplicated().sum()"
   ]
  },
  {
   "cell_type": "code",
   "execution_count": 7,
   "id": "fb11d191-9e7a-4d24-96dd-2af8301bb9e7",
   "metadata": {},
   "outputs": [
    {
     "data": {
      "text/html": [
       "<div>\n",
       "<style scoped>\n",
       "    .dataframe tbody tr th:only-of-type {\n",
       "        vertical-align: middle;\n",
       "    }\n",
       "\n",
       "    .dataframe tbody tr th {\n",
       "        vertical-align: top;\n",
       "    }\n",
       "\n",
       "    .dataframe thead th {\n",
       "        text-align: right;\n",
       "    }\n",
       "</style>\n",
       "<table border=\"1\" class=\"dataframe\">\n",
       "  <thead>\n",
       "    <tr style=\"text-align: right;\">\n",
       "      <th></th>\n",
       "      <th>order_details_id</th>\n",
       "      <th>order_id</th>\n",
       "      <th>pizza_id</th>\n",
       "      <th>quantity</th>\n",
       "      <th>order_date</th>\n",
       "      <th>order_time</th>\n",
       "      <th>unit_price</th>\n",
       "      <th>total_price</th>\n",
       "      <th>pizza_size</th>\n",
       "      <th>pizza_category</th>\n",
       "      <th>pizza_ingredients</th>\n",
       "      <th>pizza_name</th>\n",
       "    </tr>\n",
       "  </thead>\n",
       "  <tbody>\n",
       "    <tr>\n",
       "      <th>count</th>\n",
       "      <td>48620.000000</td>\n",
       "      <td>48620.000000</td>\n",
       "      <td>48620</td>\n",
       "      <td>48620.000000</td>\n",
       "      <td>48620</td>\n",
       "      <td>48620</td>\n",
       "      <td>48620.000000</td>\n",
       "      <td>48620.000000</td>\n",
       "      <td>48620</td>\n",
       "      <td>48620</td>\n",
       "      <td>48620</td>\n",
       "      <td>48620</td>\n",
       "    </tr>\n",
       "    <tr>\n",
       "      <th>unique</th>\n",
       "      <td>NaN</td>\n",
       "      <td>NaN</td>\n",
       "      <td>91</td>\n",
       "      <td>NaN</td>\n",
       "      <td>358</td>\n",
       "      <td>16382</td>\n",
       "      <td>NaN</td>\n",
       "      <td>NaN</td>\n",
       "      <td>5</td>\n",
       "      <td>4</td>\n",
       "      <td>32</td>\n",
       "      <td>32</td>\n",
       "    </tr>\n",
       "    <tr>\n",
       "      <th>top</th>\n",
       "      <td>NaN</td>\n",
       "      <td>NaN</td>\n",
       "      <td>big_meat_s</td>\n",
       "      <td>NaN</td>\n",
       "      <td>11/26/2015</td>\n",
       "      <td>12:32:00</td>\n",
       "      <td>NaN</td>\n",
       "      <td>NaN</td>\n",
       "      <td>L</td>\n",
       "      <td>Classic</td>\n",
       "      <td>Pepperoni, Mushrooms, Red Onions, Red Peppers,...</td>\n",
       "      <td>The Classic Deluxe Pizza</td>\n",
       "    </tr>\n",
       "    <tr>\n",
       "      <th>freq</th>\n",
       "      <td>NaN</td>\n",
       "      <td>NaN</td>\n",
       "      <td>1811</td>\n",
       "      <td>NaN</td>\n",
       "      <td>261</td>\n",
       "      <td>26</td>\n",
       "      <td>NaN</td>\n",
       "      <td>NaN</td>\n",
       "      <td>18526</td>\n",
       "      <td>14579</td>\n",
       "      <td>2416</td>\n",
       "      <td>2416</td>\n",
       "    </tr>\n",
       "    <tr>\n",
       "      <th>mean</th>\n",
       "      <td>24310.500000</td>\n",
       "      <td>10701.479761</td>\n",
       "      <td>NaN</td>\n",
       "      <td>1.019622</td>\n",
       "      <td>NaN</td>\n",
       "      <td>NaN</td>\n",
       "      <td>16.494132</td>\n",
       "      <td>16.821474</td>\n",
       "      <td>NaN</td>\n",
       "      <td>NaN</td>\n",
       "      <td>NaN</td>\n",
       "      <td>NaN</td>\n",
       "    </tr>\n",
       "    <tr>\n",
       "      <th>std</th>\n",
       "      <td>14035.529381</td>\n",
       "      <td>6180.119770</td>\n",
       "      <td>NaN</td>\n",
       "      <td>0.143077</td>\n",
       "      <td>NaN</td>\n",
       "      <td>NaN</td>\n",
       "      <td>3.621789</td>\n",
       "      <td>4.437398</td>\n",
       "      <td>NaN</td>\n",
       "      <td>NaN</td>\n",
       "      <td>NaN</td>\n",
       "      <td>NaN</td>\n",
       "    </tr>\n",
       "    <tr>\n",
       "      <th>min</th>\n",
       "      <td>1.000000</td>\n",
       "      <td>1.000000</td>\n",
       "      <td>NaN</td>\n",
       "      <td>1.000000</td>\n",
       "      <td>NaN</td>\n",
       "      <td>NaN</td>\n",
       "      <td>9.750000</td>\n",
       "      <td>9.750000</td>\n",
       "      <td>NaN</td>\n",
       "      <td>NaN</td>\n",
       "      <td>NaN</td>\n",
       "      <td>NaN</td>\n",
       "    </tr>\n",
       "    <tr>\n",
       "      <th>25%</th>\n",
       "      <td>12155.750000</td>\n",
       "      <td>5337.000000</td>\n",
       "      <td>NaN</td>\n",
       "      <td>1.000000</td>\n",
       "      <td>NaN</td>\n",
       "      <td>NaN</td>\n",
       "      <td>12.750000</td>\n",
       "      <td>12.750000</td>\n",
       "      <td>NaN</td>\n",
       "      <td>NaN</td>\n",
       "      <td>NaN</td>\n",
       "      <td>NaN</td>\n",
       "    </tr>\n",
       "    <tr>\n",
       "      <th>50%</th>\n",
       "      <td>24310.500000</td>\n",
       "      <td>10682.500000</td>\n",
       "      <td>NaN</td>\n",
       "      <td>1.000000</td>\n",
       "      <td>NaN</td>\n",
       "      <td>NaN</td>\n",
       "      <td>16.500000</td>\n",
       "      <td>16.500000</td>\n",
       "      <td>NaN</td>\n",
       "      <td>NaN</td>\n",
       "      <td>NaN</td>\n",
       "      <td>NaN</td>\n",
       "    </tr>\n",
       "    <tr>\n",
       "      <th>75%</th>\n",
       "      <td>36465.250000</td>\n",
       "      <td>16100.000000</td>\n",
       "      <td>NaN</td>\n",
       "      <td>1.000000</td>\n",
       "      <td>NaN</td>\n",
       "      <td>NaN</td>\n",
       "      <td>20.250000</td>\n",
       "      <td>20.500000</td>\n",
       "      <td>NaN</td>\n",
       "      <td>NaN</td>\n",
       "      <td>NaN</td>\n",
       "      <td>NaN</td>\n",
       "    </tr>\n",
       "    <tr>\n",
       "      <th>max</th>\n",
       "      <td>48620.000000</td>\n",
       "      <td>21350.000000</td>\n",
       "      <td>NaN</td>\n",
       "      <td>4.000000</td>\n",
       "      <td>NaN</td>\n",
       "      <td>NaN</td>\n",
       "      <td>35.950000</td>\n",
       "      <td>83.000000</td>\n",
       "      <td>NaN</td>\n",
       "      <td>NaN</td>\n",
       "      <td>NaN</td>\n",
       "      <td>NaN</td>\n",
       "    </tr>\n",
       "  </tbody>\n",
       "</table>\n",
       "</div>"
      ],
      "text/plain": [
       "        order_details_id      order_id    pizza_id      quantity  order_date  \\\n",
       "count       48620.000000  48620.000000       48620  48620.000000       48620   \n",
       "unique               NaN           NaN          91           NaN         358   \n",
       "top                  NaN           NaN  big_meat_s           NaN  11/26/2015   \n",
       "freq                 NaN           NaN        1811           NaN         261   \n",
       "mean        24310.500000  10701.479761         NaN      1.019622         NaN   \n",
       "std         14035.529381   6180.119770         NaN      0.143077         NaN   \n",
       "min             1.000000      1.000000         NaN      1.000000         NaN   \n",
       "25%         12155.750000   5337.000000         NaN      1.000000         NaN   \n",
       "50%         24310.500000  10682.500000         NaN      1.000000         NaN   \n",
       "75%         36465.250000  16100.000000         NaN      1.000000         NaN   \n",
       "max         48620.000000  21350.000000         NaN      4.000000         NaN   \n",
       "\n",
       "       order_time    unit_price   total_price pizza_size pizza_category  \\\n",
       "count       48620  48620.000000  48620.000000      48620          48620   \n",
       "unique      16382           NaN           NaN          5              4   \n",
       "top      12:32:00           NaN           NaN          L        Classic   \n",
       "freq           26           NaN           NaN      18526          14579   \n",
       "mean          NaN     16.494132     16.821474        NaN            NaN   \n",
       "std           NaN      3.621789      4.437398        NaN            NaN   \n",
       "min           NaN      9.750000      9.750000        NaN            NaN   \n",
       "25%           NaN     12.750000     12.750000        NaN            NaN   \n",
       "50%           NaN     16.500000     16.500000        NaN            NaN   \n",
       "75%           NaN     20.250000     20.500000        NaN            NaN   \n",
       "max           NaN     35.950000     83.000000        NaN            NaN   \n",
       "\n",
       "                                        pizza_ingredients  \\\n",
       "count                                               48620   \n",
       "unique                                                 32   \n",
       "top     Pepperoni, Mushrooms, Red Onions, Red Peppers,...   \n",
       "freq                                                 2416   \n",
       "mean                                                  NaN   \n",
       "std                                                   NaN   \n",
       "min                                                   NaN   \n",
       "25%                                                   NaN   \n",
       "50%                                                   NaN   \n",
       "75%                                                   NaN   \n",
       "max                                                   NaN   \n",
       "\n",
       "                      pizza_name  \n",
       "count                      48620  \n",
       "unique                        32  \n",
       "top     The Classic Deluxe Pizza  \n",
       "freq                        2416  \n",
       "mean                         NaN  \n",
       "std                          NaN  \n",
       "min                          NaN  \n",
       "25%                          NaN  \n",
       "50%                          NaN  \n",
       "75%                          NaN  \n",
       "max                          NaN  "
      ]
     },
     "execution_count": 7,
     "metadata": {},
     "output_type": "execute_result"
    }
   ],
   "source": [
    "df.describe(include='all')"
   ]
  },
  {
   "cell_type": "markdown",
   "id": "95bec78d-0ecf-4199-a29d-68356cd5464d",
   "metadata": {},
   "source": [
    "Total Revenue in €"
   ]
  },
  {
   "cell_type": "code",
   "execution_count": 9,
   "id": "e14bb2ad-e01e-4c61-b7b2-513fd4e66146",
   "metadata": {},
   "outputs": [
    {
     "name": "stdout",
     "output_type": "stream",
     "text": [
      "Total Revenue: 817860.05\n"
     ]
    }
   ],
   "source": [
    "total_revenue = (df['total_price']).sum()\n",
    "print(\"Total Revenue:\", total_revenue)"
   ]
  },
  {
   "cell_type": "markdown",
   "id": "faf3b1b9-2723-43c4-89e8-1451b66fd258",
   "metadata": {},
   "source": [
    "Average Order Value in €"
   ]
  },
  {
   "cell_type": "code",
   "execution_count": 11,
   "id": "eb446f07-d13b-48e3-b1a3-074ac17d2d70",
   "metadata": {},
   "outputs": [
    {
     "name": "stdout",
     "output_type": "stream",
     "text": [
      "Average Order Value: 38.30726229508196\n"
     ]
    }
   ],
   "source": [
    "avg_order_value = df.groupby('order_id')['total_price'].sum().mean()\n",
    "print(\"Average Order Value:\", avg_order_value)"
   ]
  },
  {
   "cell_type": "markdown",
   "id": "0cf9a353-1577-4052-8114-6d92aeef4dc1",
   "metadata": {},
   "source": [
    "Total Pizzas Sold"
   ]
  },
  {
   "cell_type": "code",
   "execution_count": 13,
   "id": "57244771-9ab6-4c0a-b6dc-cd8a034980f5",
   "metadata": {},
   "outputs": [
    {
     "name": "stdout",
     "output_type": "stream",
     "text": [
      "Total Pizzas Sold: 49574\n"
     ]
    }
   ],
   "source": [
    "total_pizzas_sold = df['quantity'].sum()\n",
    "print(\"Total Pizzas Sold:\", total_pizzas_sold)"
   ]
  },
  {
   "cell_type": "markdown",
   "id": "b2b7a09a-1f68-4ec1-989a-777d0ca3a57d",
   "metadata": {},
   "source": [
    "Total Orders"
   ]
  },
  {
   "cell_type": "code",
   "execution_count": 15,
   "id": "3c4414aa-cf8f-4f47-ab83-7da37d238335",
   "metadata": {},
   "outputs": [
    {
     "name": "stdout",
     "output_type": "stream",
     "text": [
      "Total Orders: 21350\n"
     ]
    }
   ],
   "source": [
    "total_orders = len(df.groupby('order_id').count())\n",
    "print(\"Total Orders:\", total_orders)"
   ]
  },
  {
   "cell_type": "markdown",
   "id": "98c43bf8-05c1-446e-bba2-937a89adc842",
   "metadata": {},
   "source": [
    "Average Pizzas per Order"
   ]
  },
  {
   "cell_type": "code",
   "execution_count": 17,
   "id": "7cdb5215-75b5-4e7a-bc5e-5c7cfe1a0c93",
   "metadata": {},
   "outputs": [
    {
     "name": "stdout",
     "output_type": "stream",
     "text": [
      "Average Pizzas per Order: 2.321967213114754\n"
     ]
    }
   ],
   "source": [
    "avg_pizzas_per_order = df['quantity'].sum() / total_orders\n",
    "print(\"Average Pizzas per Order:\", avg_pizzas_per_order)"
   ]
  },
  {
   "cell_type": "markdown",
   "id": "e5f59199-7d68-4b67-9cc1-4cf31aa4fa3e",
   "metadata": {},
   "source": [
    "Average Unit Price and Revenue by Category"
   ]
  },
  {
   "cell_type": "code",
   "execution_count": 19,
   "id": "b3be659f-cf2d-4bcc-a644-0c03b45d2822",
   "metadata": {},
   "outputs": [
    {
     "name": "stdout",
     "output_type": "stream",
     "text": [
      "Average Unit Price and Revenue by Category:\n",
      "                 average_unit_price  revenue_per_category\n",
      "pizza_category                                          \n",
      "Classic                  14.797490             220053.10\n",
      "Supreme                  17.363229             208197.00\n",
      "Chicken                  17.709408             195919.50\n",
      "Veggie                   16.612639             193690.45\n"
     ]
    }
   ],
   "source": [
    "category_analysis = df.groupby('pizza_category').agg(\n",
    "    average_unit_price=('unit_price', 'mean'),\n",
    "    revenue_per_category=('unit_price', lambda x: (x * df['quantity']).sum())\n",
    ").sort_values(by='revenue_per_category', ascending=False)\n",
    "print(\"Average Unit Price and Revenue by Category:\\n\", category_analysis)"
   ]
  },
  {
   "cell_type": "markdown",
   "id": "b9f49122-0189-49d8-a714-2773b9c77dd2",
   "metadata": {},
   "source": [
    "Revenue by Pizza Category"
   ]
  },
  {
   "cell_type": "code",
   "execution_count": 21,
   "id": "242ebd93-986f-46cc-aa5b-2f9b0fcd9d30",
   "metadata": {},
   "outputs": [
    {
     "data": {
      "image/png": "[encoded data removed]",
      "text/plain": [
       "<Figure size 640x480 with 1 Axes>"
      ]
     },
     "metadata": {},
     "output_type": "display_data"
    }
   ],
   "source": [
    "category_analysis['revenue_per_category'].plot(kind='bar', color='skyblue')\n",
    "plt.xlabel('Pizza Category')\n",
    "plt.ylabel('Revenue')\n",
    "plt.title('Revenue by Pizza Category in €')\n",
    "plt.xticks(rotation=45)\n",
    "plt.tight_layout()\n",
    "plt.show()"
   ]
  },
  {
   "cell_type": "markdown",
   "id": "123eebbf-1ad2-418c-8342-5c93922d3412",
   "metadata": {},
   "source": [
    "Average Unit Price and Revenue of Pizza by Size"
   ]
  },
  {
   "cell_type": "code",
   "execution_count": 23,
   "id": "8bbe85ea-e33b-4338-b67a-76f5b0b8620d",
   "metadata": {},
   "outputs": [
    {
     "name": "stdout",
     "output_type": "stream",
     "text": [
      "Average Unit Price and Revenue by Size:\n",
      "             average_unit_price  revenue_per_size\n",
      "pizza_size                                      \n",
      "L                    19.802553         375318.70\n",
      "M                    15.951219         249382.25\n",
      "S                    12.364328         178076.50\n",
      "XL                   25.500000          14076.00\n",
      "XXL                  35.950000           1006.60\n"
     ]
    }
   ],
   "source": [
    "size_analysis = df.groupby('pizza_size').agg(\n",
    "    average_unit_price=('unit_price', 'mean'),\n",
    "    revenue_per_size=('unit_price', lambda x: (x * df['quantity']).sum())\n",
    ").sort_values(by='revenue_per_size', ascending=False)\n",
    "print(\"Average Unit Price and Revenue by Size:\\n\", size_analysis)"
   ]
  },
  {
   "cell_type": "markdown",
   "id": "bd53a322-6ef1-415c-9695-7a477442fa50",
   "metadata": {},
   "source": [
    "Revenue by Pizza Size Plot"
   ]
  },
  {
   "cell_type": "code",
   "execution_count": 25,
   "id": "bd48ddb9-a665-4877-930f-57430841d39f",
   "metadata": {},
   "outputs": [
    {
     "data": {
      "image/png": "[encoded data removed]",
      "text/plain": [
       "<Figure size 640x480 with 1 Axes>"
      ]
     },
     "metadata": {},
     "output_type": "display_data"
    }
   ],
   "source": [
    "size_analysis['revenue_per_size'].plot(kind='bar', color='blue')\n",
    "plt.xlabel('Pizza Size')\n",
    "plt.ylabel('Revenue')\n",
    "plt.title('Revenue by Pizza Size in €')\n",
    "plt.xticks(rotation=45)\n",
    "plt.tight_layout()\n",
    "plt.show()"
   ]
  },
  {
   "cell_type": "markdown",
   "id": "b8c135cb-4fcf-440a-bb0e-1b8787d2dfe3",
   "metadata": {},
   "source": [
    "Best Selling Pizza "
   ]
  },
  {
   "cell_type": "code",
   "execution_count": 27,
   "id": "372c2725-1d09-42c3-a7b8-40c35b8ee9f6",
   "metadata": {},
   "outputs": [
    {
     "name": "stdout",
     "output_type": "stream",
     "text": [
      "Average Unit Price and Revenue of Top 3 Pizzas:\n",
      "                               average_unit_price  revenue_per_pizza\n",
      "pizza_name                                                         \n",
      "The Thai Chicken Pizza                 18.286069           43434.25\n",
      "The Barbecue Chicken Pizza             17.572934           42768.00\n",
      "The California Chicken Pizza           17.448523           41409.50\n",
      "The Classic Deluxe Pizza               15.575952           38180.50\n",
      "The Spicy Italian Pizza                18.104663           34831.25\n"
     ]
    }
   ],
   "source": [
    "best_selling_pizza_analysis = df.groupby('pizza_name').agg(\n",
    "    average_unit_price=('unit_price', 'mean'),\n",
    "    revenue_per_pizza=('unit_price', lambda x: (x * df['quantity']).sum())\n",
    ").nlargest(5, 'revenue_per_pizza')\n",
    "print(\"Average Unit Price and Revenue of Top 3 Pizzas:\\n\", best_selling_pizza_analysis)"
   ]
  },
  {
   "cell_type": "markdown",
   "id": "b34f7df3-9474-42fb-9935-b1ed1a19689f",
   "metadata": {},
   "source": [
    "Best Selling Pizzas Revenue"
   ]
  },
  {
   "cell_type": "code",
   "execution_count": 29,
   "id": "b39a875e-5b82-4598-a2c6-0a39ea9f1e62",
   "metadata": {},
   "outputs": [
    {
     "data": {
      "image/png": "[encoded data removed]",
      "text/plain": [
       "<Figure size 640x480 with 1 Axes>"
      ]
     },
     "metadata": {},
     "output_type": "display_data"
    }
   ],
   "source": [
    "best_selling_pizza_analysis['revenue_per_pizza'].plot(kind='bar', color='green')\n",
    "plt.xlabel('Pizza Name')\n",
    "plt.ylabel('Revenue')\n",
    "plt.title('Revenue by Best Selling Pizzas in €')\n",
    "plt.xticks(rotation=45)\n",
    "plt.tight_layout()\n",
    "plt.show()"
   ]
  },
  {
   "cell_type": "code",
   "execution_count": null,
   "id": "3e4ced5f-c6cc-4d03-bc2e-82cc2ad6e83f",
   "metadata": {},
   "outputs": [],
   "source": []
  },
  {
   "cell_type": "code",
   "execution_count": 30,
   "id": "4416ef88-adc2-4a35-b5c3-8192051793d7",
   "metadata": {},
   "outputs": [
    {
     "name": "stdout",
     "output_type": "stream",
     "text": [
      "Sales by Day of the Week:\n",
      " day_of_week\n",
      "Friday       8106\n",
      "Saturday     7355\n",
      "Thursday     7323\n",
      "Wednesday    6797\n",
      "Tuesday      6753\n",
      "Monday       6369\n",
      "Sunday       5917\n",
      "Name: order_id, dtype: int64\n"
     ]
    }
   ],
   "source": [
    "df['day_of_week'] = pd.to_datetime(df['order_date']).dt.strftime('%A')\n",
    "day_of_week_analysis = df.groupby('day_of_week')['order_id'].count().sort_values(ascending=False)\n",
    "print(\"Sales by Day of the Week:\\n\", day_of_week_analysis)"
   ]
  },
  {
   "cell_type": "markdown",
   "id": "db7e2b67-cf2f-4468-bf75-074a6a21462c",
   "metadata": {},
   "source": [
    "Sales by Day of the Week"
   ]
  },
  {
   "cell_type": "code",
   "execution_count": 32,
   "id": "75420764-ddd7-4582-94a1-e989e735686b",
   "metadata": {},
   "outputs": [
    {
     "data": {
      "image/png": "[encoded data removed]",
      "text/plain": [
       "<Figure size 640x480 with 1 Axes>"
      ]
     },
     "metadata": {},
     "output_type": "display_data"
    }
   ],
   "source": [
    "day_of_week_analysis.plot(kind='bar', color='yellow')\n",
    "plt.xlabel('Day of the Week')\n",
    "plt.ylabel('Number of Orders')\n",
    "plt.title('Sales by Day of the Week in €')\n",
    "plt.xticks(rotation=45)\n",
    "plt.tight_layout()\n",
    "plt.show()"
   ]
  },
  {
   "cell_type": "markdown",
   "id": "c2ddea15-b51d-4b8a-8ff5-48b5a6dc162f",
   "metadata": {},
   "source": [
    "Bussiest Time of the Day"
   ]
  },
  {
   "cell_type": "code",
   "execution_count": 34,
   "id": "ca0fd507-d2b0-439f-a97a-83722db7a2f4",
   "metadata": {},
   "outputs": [
    {
     "name": "stdout",
     "output_type": "stream",
     "text": [
      "Rush Hour:\n",
      " delivery_time\n",
      "13:04    198\n",
      "12:39    158\n",
      "12:56    155\n",
      "12:30    153\n",
      "12:29    149\n",
      "Name: order_id, dtype: int64\n"
     ]
    }
   ],
   "source": [
    "df['delivery_time'] = df['order_time'].astype('string').str.slice(0, 5) \n",
    "delivery_time_analysis = df.groupby('delivery_time')['order_id'].count().nlargest(5)\n",
    "print(\"Rush Hour:\\n\", delivery_time_analysis)"
   ]
  },
  {
   "cell_type": "markdown",
   "id": "b3fc9e17-a0be-4f9b-bdf7-90a7fab95a4c",
   "metadata": {},
   "source": [
    "Bussiest Time of the Day Plot"
   ]
  },
  {
   "cell_type": "code",
   "execution_count": 36,
   "id": "c22fbf1f-4027-4372-b44e-cbf7c2b6f99f",
   "metadata": {},
   "outputs": [
    {
     "data": {
      "image/png": "[encoded data removed]",
      "text/plain": [
       "<Figure size 640x480 with 1 Axes>"
      ]
     },
     "metadata": {},
     "output_type": "display_data"
    }
   ],
   "source": [
    "delivery_time_analysis.plot(kind='bar', color='red')\n",
    "plt.xlabel('Bussiest Time')\n",
    "plt.ylabel('Number of Orders')\n",
    "plt.title('Number of Orders by Time')\n",
    "plt.xticks(rotation=45)\n",
    "plt.tight_layout()\n",
    "plt.show()"
   ]
  },
  {
   "cell_type": "markdown",
   "id": "9792232c-3afe-4014-96f7-0e5103029370",
   "metadata": {},
   "source": [
    "Monthly Sales Analysis"
   ]
  },
  {
   "cell_type": "code",
   "execution_count": 38,
   "id": "898fa129-0661-4457-8868-adbf79613be0",
   "metadata": {},
   "outputs": [
    {
     "name": "stdout",
     "output_type": "stream",
     "text": [
      "Highest Revenue Months:\n",
      " order_date\n",
      "April        68736.80\n",
      "August       68278.25\n",
      "December     64701.15\n",
      "February     65159.60\n",
      "January      69793.30\n",
      "July         72557.90\n",
      "June         68230.20\n",
      "March        70397.10\n",
      "May          71402.75\n",
      "November     70395.35\n",
      "October      64027.60\n",
      "September    64180.05\n",
      "Name: total_price, dtype: float64\n"
     ]
    }
   ],
   "source": [
    "monthly_sales_analysis = df.groupby(pd.to_datetime(df['order_date']).dt.strftime('%B'))['total_price'].sum()\n",
    "print(\"Highest Revenue Months:\\n\", monthly_sales_analysis)"
   ]
  },
  {
   "cell_type": "markdown",
   "id": "f2885d7d-5dde-4ada-b992-d3bd2dcd6051",
   "metadata": {},
   "source": [
    "Montly Sales Analysis Plot"
   ]
  },
  {
   "cell_type": "code",
   "execution_count": 40,
   "id": "3a7dfb8a-49e8-4dc9-a4da-cf964cdb0fd6",
   "metadata": {},
   "outputs": [
    {
     "data": {
      "image/png": "[encoded data removed]",
      "text/plain": [
       "<Figure size 640x480 with 1 Axes>"
      ]
     },
     "metadata": {},
     "output_type": "display_data"
    }
   ],
   "source": [
    "monthly_sales_analysis.plot(kind='bar', color='blue')\n",
    "plt.xlabel('Month')\n",
    "plt.ylabel('Sales')\n",
    "plt.title('Sales by Month')\n",
    "plt.xticks(rotation=45)\n",
    "plt.tight_layout()\n",
    "plt.show()"
   ]
  },
  {
   "cell_type": "markdown",
   "id": "c16a5935-cf62-465d-b09d-c6579292ec7a",
   "metadata": {},
   "source": [
    "Most Sold Pizza"
   ]
  },
  {
   "cell_type": "code",
   "execution_count": 42,
   "id": "33b555f8-a46f-4739-aa60-eb438abeb2b4",
   "metadata": {},
   "outputs": [
    {
     "name": "stdout",
     "output_type": "stream",
     "text": [
      "Favourite Pizza: ('The Big Meat Pizza', 'S')\n"
     ]
    }
   ],
   "source": [
    "favourite_pizza = df.groupby(['pizza_name', 'pizza_size'])['order_id'].count().idxmax()\n",
    "print(\"Favourite Pizza:\", favourite_pizza)"
   ]
  },
  {
   "cell_type": "markdown",
   "id": "04ae1183-ae1e-4a7d-8239-09b88d4a73fd",
   "metadata": {},
   "source": [
    "Lowest Priced Pizza"
   ]
  },
  {
   "cell_type": "code",
   "execution_count": 44,
   "id": "766e4cbe-95b3-492b-a63a-0a2c027ef8a3",
   "metadata": {},
   "outputs": [
    {
     "name": "stdout",
     "output_type": "stream",
     "text": [
      "Lowest Priced Pizza:\n",
      " pizza_name    The Pepperoni Pizza\n",
      "unit_price                   9.75\n",
      "Name: 7636, dtype: object\n"
     ]
    }
   ],
   "source": [
    "lowest_priced_pizza = df[['pizza_name', 'unit_price']].sort_values(by='unit_price').iloc[0]\n",
    "print(\"Lowest Priced Pizza:\\n\", lowest_priced_pizza)"
   ]
  },
  {
   "cell_type": "markdown",
   "id": "8fc3baf7-73fb-4f9c-be21-68507ad5a233",
   "metadata": {},
   "source": [
    "Highest Priced Pizza"
   ]
  },
  {
   "cell_type": "code",
   "execution_count": 46,
   "id": "76c00bf6-b637-4b3c-8ad9-1320bf818676",
   "metadata": {},
   "outputs": [
    {
     "name": "stdout",
     "output_type": "stream",
     "text": [
      "Highest Priced Pizza:\n",
      " pizza_name    The Greek Pizza\n",
      "unit_price              35.95\n",
      "Name: 22903, dtype: object\n"
     ]
    }
   ],
   "source": [
    "highest_priced_pizza = df[['pizza_name', 'unit_price']].sort_values(by='unit_price', ascending=False).iloc[0]\n",
    "print(\"Highest Priced Pizza:\\n\", highest_priced_pizza)"
   ]
  },
  {
   "cell_type": "code",
   "execution_count": null,
   "id": "c9269a42-0ab7-4299-97ac-a954f992c75f",
   "metadata": {},
   "outputs": [],
   "source": []
  }
 ],
 "metadata": {
  "kernelspec": {
   "display_name": "Python 3 (ipykernel)",
   "language": "python",
   "name": "python3"
  },
  "language_info": {
   "codemirror_mode": {
    "name": "ipython",
    "version": 3
   },
   "file_extension": ".py",
   "mimetype": "text/x-python",
   "name": "python",
   "nbconvert_exporter": "python",
   "pygments_lexer": "ipython3",
   "version": "3.12.4"
  }
 },
 "nbformat": 4,
 "nbformat_minor": 5
}
